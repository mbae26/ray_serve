{
 "cells": [
  {
   "cell_type": "code",
   "execution_count": 1,
   "metadata": {},
   "outputs": [
    {
     "name": "stderr",
     "output_type": "stream",
     "text": [
      "/Users/minseokbae/anaconda3/envs/ray-serve-env/lib/python3.9/site-packages/tqdm/auto.py:21: TqdmWarning: IProgress not found. Please update jupyter and ipywidgets. See https://ipywidgets.readthedocs.io/en/stable/user_install.html\n",
      "  from .autonotebook import tqdm as notebook_tqdm\n",
      "2023-09-25 17:57:16,256\tINFO util.py:159 -- Missing packages: ['ipywidgets']. Run `pip install -U ipywidgets`, then restart the notebook server for rich notebook output.\n"
     ]
    }
   ],
   "source": [
    "import ray\n",
    "from ray import serve\n",
    "import requests"
   ]
  },
  {
   "cell_type": "code",
   "execution_count": 2,
   "metadata": {},
   "outputs": [
    {
     "name": "stderr",
     "output_type": "stream",
     "text": [
      "2023-09-25 17:57:21,309\tINFO worker.py:1612 -- Started a local Ray instance. View the dashboard at \u001b[1m\u001b[32m127.0.0.1:8265 \u001b[39m\u001b[22m\n"
     ]
    },
    {
     "data": {
      "text/plain": [
       "<ray.serve._private.client.ServeControllerClient at 0x110fdf280>"
      ]
     },
     "execution_count": 2,
     "metadata": {},
     "output_type": "execute_result"
    },
    {
     "name": "stderr",
     "output_type": "stream",
     "text": [
      "\u001b[2m\u001b[36m(HTTPProxyActor pid=21093)\u001b[0m INFO:     Started server process [21093]\n"
     ]
    }
   ],
   "source": [
    "serve.start()"
   ]
  },
  {
   "cell_type": "code",
   "execution_count": 4,
   "metadata": {},
   "outputs": [],
   "source": [
    "@serve.deployment\n",
    "def say_hello(request):\n",
    "    name = request.query_params[\"name\"]\n",
    "    return f\"Hi {name}\""
   ]
  },
  {
   "cell_type": "code",
   "execution_count": 5,
   "metadata": {},
   "outputs": [
    {
     "name": "stderr",
     "output_type": "stream",
     "text": [
      "\u001b[2m\u001b[36m(ServeController pid=21087)\u001b[0m INFO 2023-09-25 17:58:37,406 controller 21087 deployment_state.py:1308 - Deploying new version of deployment say_hello.\n",
      "\u001b[2m\u001b[36m(ServeController pid=21087)\u001b[0m INFO 2023-09-25 17:58:37,410 controller 21087 deployment_state.py:1571 - Adding 1 replica to deployment say_hello.\n"
     ]
    }
   ],
   "source": [
    "say_hello.deploy()"
   ]
  },
  {
   "cell_type": "code",
   "execution_count": 6,
   "metadata": {},
   "outputs": [
    {
     "name": "stdout",
     "output_type": "stream",
     "text": [
      "Hi Michael\n"
     ]
    },
    {
     "name": "stderr",
     "output_type": "stream",
     "text": [
      "\u001b[2m\u001b[36m(ServeReplica:say_hello pid=21277)\u001b[0m INFO 2023-09-25 18:00:41,548 say_hello say_hello#NFUHyv FitUKLSWMt /say_hello replica.py:723 - __CALL__ OK 6.1ms\n"
     ]
    }
   ],
   "source": [
    "response = requests.get(\"http://127.0.0.1:8000/say_hello?name=Michael\").text\n",
    "print(response)"
   ]
  },
  {
   "cell_type": "code",
   "execution_count": 7,
   "metadata": {},
   "outputs": [
    {
     "name": "stderr",
     "output_type": "stream",
     "text": [
      "Downloading (…)lve/main/config.json: 100%|██████████| 481/481 [00:00<00:00, 176kB/s]\n",
      "Downloading model.safetensors: 100%|██████████| 499M/499M [06:35<00:00, 1.26MB/s] \n",
      "Some weights of RobertaModel were not initialized from the model checkpoint at roberta-base and are newly initialized: ['roberta.pooler.dense.bias', 'roberta.pooler.dense.weight']\n",
      "You should probably TRAIN this model on a down-stream task to be able to use it for predictions and inference.\n"
     ]
    }
   ],
   "source": [
    "from transformers import AutoModel\n",
    "\n",
    "model_name = \"roberta-base\"\n",
    "model = AutoModel.from_pretrained(model_name, device_map=\"auto\")"
   ]
  },
  {
   "cell_type": "code",
   "execution_count": 9,
   "metadata": {},
   "outputs": [
    {
     "name": "stdout",
     "output_type": "stream",
     "text": [
      "Collecting optimum\n",
      "  Downloading optimum-1.13.2.tar.gz (300 kB)\n",
      "\u001b[2K     \u001b[90m━━━━━━━━━━━━━━━━━━━━━━━━━━━━━━━━━━━━━━━\u001b[0m \u001b[32m301.0/301.0 kB\u001b[0m \u001b[31m7.0 MB/s\u001b[0m eta \u001b[36m0:00:00\u001b[0ma \u001b[36m0:00:01\u001b[0m\n",
      "\u001b[?25h  Installing build dependencies ... \u001b[?25ldone\n",
      "\u001b[?25h  Getting requirements to build wheel ... \u001b[?25ldone\n",
      "\u001b[?25h  Preparing metadata (pyproject.toml) ... \u001b[?25ldone\n",
      "\u001b[?25hCollecting coloredlogs (from optimum)\n",
      "  Using cached coloredlogs-15.0.1-py2.py3-none-any.whl (46 kB)\n",
      "Requirement already satisfied: sympy in /Users/minseokbae/anaconda3/envs/ray-serve-env/lib/python3.9/site-packages (from optimum) (1.12)\n",
      "Requirement already satisfied: transformers[sentencepiece]>=4.26.0 in /Users/minseokbae/anaconda3/envs/ray-serve-env/lib/python3.9/site-packages (from optimum) (4.33.1)\n",
      "Requirement already satisfied: torch>=1.9 in /Users/minseokbae/anaconda3/envs/ray-serve-env/lib/python3.9/site-packages (from optimum) (2.0.1)\n",
      "Requirement already satisfied: packaging in /Users/minseokbae/anaconda3/envs/ray-serve-env/lib/python3.9/site-packages (from optimum) (23.1)\n",
      "Requirement already satisfied: numpy in /Users/minseokbae/anaconda3/envs/ray-serve-env/lib/python3.9/site-packages (from optimum) (1.25.2)\n",
      "Requirement already satisfied: huggingface-hub>=0.8.0 in /Users/minseokbae/anaconda3/envs/ray-serve-env/lib/python3.9/site-packages (from optimum) (0.17.1)\n",
      "Collecting datasets (from optimum)\n",
      "  Obtaining dependency information for datasets from https://files.pythonhosted.org/packages/09/7e/fd4d6441a541dba61d0acb3c1fd5df53214c2e9033854e837a99dd9e0793/datasets-2.14.5-py3-none-any.whl.metadata\n",
      "  Downloading datasets-2.14.5-py3-none-any.whl.metadata (19 kB)\n",
      "Requirement already satisfied: filelock in /Users/minseokbae/anaconda3/envs/ray-serve-env/lib/python3.9/site-packages (from huggingface-hub>=0.8.0->optimum) (3.12.4)\n",
      "Requirement already satisfied: fsspec in /Users/minseokbae/anaconda3/envs/ray-serve-env/lib/python3.9/site-packages (from huggingface-hub>=0.8.0->optimum) (2023.9.0)\n",
      "Requirement already satisfied: requests in /Users/minseokbae/anaconda3/envs/ray-serve-env/lib/python3.9/site-packages (from huggingface-hub>=0.8.0->optimum) (2.31.0)\n",
      "Requirement already satisfied: tqdm>=4.42.1 in /Users/minseokbae/anaconda3/envs/ray-serve-env/lib/python3.9/site-packages (from huggingface-hub>=0.8.0->optimum) (4.66.1)\n",
      "Requirement already satisfied: pyyaml>=5.1 in /Users/minseokbae/anaconda3/envs/ray-serve-env/lib/python3.9/site-packages (from huggingface-hub>=0.8.0->optimum) (6.0.1)\n",
      "Requirement already satisfied: typing-extensions>=3.7.4.3 in /Users/minseokbae/anaconda3/envs/ray-serve-env/lib/python3.9/site-packages (from huggingface-hub>=0.8.0->optimum) (4.7.1)\n",
      "Requirement already satisfied: networkx in /Users/minseokbae/anaconda3/envs/ray-serve-env/lib/python3.9/site-packages (from torch>=1.9->optimum) (3.1)\n",
      "Requirement already satisfied: jinja2 in /Users/minseokbae/anaconda3/envs/ray-serve-env/lib/python3.9/site-packages (from torch>=1.9->optimum) (3.1.2)\n",
      "Requirement already satisfied: regex!=2019.12.17 in /Users/minseokbae/anaconda3/envs/ray-serve-env/lib/python3.9/site-packages (from transformers[sentencepiece]>=4.26.0->optimum) (2023.8.8)\n",
      "Requirement already satisfied: tokenizers!=0.11.3,<0.14,>=0.11.1 in /Users/minseokbae/anaconda3/envs/ray-serve-env/lib/python3.9/site-packages (from transformers[sentencepiece]>=4.26.0->optimum) (0.13.3)\n",
      "Requirement already satisfied: safetensors>=0.3.1 in /Users/minseokbae/anaconda3/envs/ray-serve-env/lib/python3.9/site-packages (from transformers[sentencepiece]>=4.26.0->optimum) (0.3.3)\n",
      "Requirement already satisfied: sentencepiece!=0.1.92,>=0.1.91 in /Users/minseokbae/anaconda3/envs/ray-serve-env/lib/python3.9/site-packages (from transformers[sentencepiece]>=4.26.0->optimum) (0.1.99)\n",
      "Requirement already satisfied: protobuf in /Users/minseokbae/anaconda3/envs/ray-serve-env/lib/python3.9/site-packages (from transformers[sentencepiece]>=4.26.0->optimum) (4.24.3)\n",
      "Collecting humanfriendly>=9.1 (from coloredlogs->optimum)\n",
      "  Using cached humanfriendly-10.0-py2.py3-none-any.whl (86 kB)\n",
      "Collecting pyarrow>=8.0.0 (from datasets->optimum)\n",
      "  Obtaining dependency information for pyarrow>=8.0.0 from https://files.pythonhosted.org/packages/04/3d/183285e5f038866b25e35c9f586abafd78f8deb88d783d313a85f03fc403/pyarrow-13.0.0-cp39-cp39-macosx_11_0_arm64.whl.metadata\n",
      "  Downloading pyarrow-13.0.0-cp39-cp39-macosx_11_0_arm64.whl.metadata (3.0 kB)\n",
      "Collecting dill<0.3.8,>=0.3.0 (from datasets->optimum)\n",
      "  Obtaining dependency information for dill<0.3.8,>=0.3.0 from https://files.pythonhosted.org/packages/f5/3a/74a29b11cf2cdfcd6ba89c0cecd70b37cd1ba7b77978ce611eb7a146a832/dill-0.3.7-py3-none-any.whl.metadata\n",
      "  Using cached dill-0.3.7-py3-none-any.whl.metadata (9.9 kB)\n",
      "Collecting pandas (from datasets->optimum)\n",
      "  Obtaining dependency information for pandas from https://files.pythonhosted.org/packages/c5/2f/bf85305b044ddee0ade62c444c7ef551eb423899424b3898d60895d02f63/pandas-2.1.1-cp39-cp39-macosx_11_0_arm64.whl.metadata\n",
      "  Downloading pandas-2.1.1-cp39-cp39-macosx_11_0_arm64.whl.metadata (18 kB)\n",
      "Collecting xxhash (from datasets->optimum)\n",
      "  Obtaining dependency information for xxhash from https://files.pythonhosted.org/packages/2c/5b/b71f58fb6113be8f49f46933a6ba451163b23311955e5fdb63359f206c78/xxhash-3.3.0-cp39-cp39-macosx_11_0_arm64.whl.metadata\n",
      "  Downloading xxhash-3.3.0-cp39-cp39-macosx_11_0_arm64.whl.metadata (12 kB)\n",
      "Collecting multiprocess (from datasets->optimum)\n",
      "  Obtaining dependency information for multiprocess from https://files.pythonhosted.org/packages/c6/c9/820b5ab056f4ada76fbe05bd481a948f287957d6cbfd59e2dd2618b408c1/multiprocess-0.70.15-py39-none-any.whl.metadata\n",
      "  Downloading multiprocess-0.70.15-py39-none-any.whl.metadata (7.2 kB)\n",
      "Collecting fsspec[http]<2023.9.0,>=2023.1.0 (from datasets->optimum)\n",
      "  Obtaining dependency information for fsspec[http]<2023.9.0,>=2023.1.0 from https://files.pythonhosted.org/packages/e3/bd/4c0a4619494188a9db5d77e2100ab7d544a42e76b2447869d8e124e981d8/fsspec-2023.6.0-py3-none-any.whl.metadata\n",
      "  Using cached fsspec-2023.6.0-py3-none-any.whl.metadata (6.7 kB)\n",
      "Requirement already satisfied: aiohttp in /Users/minseokbae/anaconda3/envs/ray-serve-env/lib/python3.9/site-packages (from datasets->optimum) (3.8.5)\n",
      "Requirement already satisfied: mpmath>=0.19 in /Users/minseokbae/anaconda3/envs/ray-serve-env/lib/python3.9/site-packages (from sympy->optimum) (1.3.0)\n",
      "Requirement already satisfied: attrs>=17.3.0 in /Users/minseokbae/anaconda3/envs/ray-serve-env/lib/python3.9/site-packages (from aiohttp->datasets->optimum) (23.1.0)\n",
      "Requirement already satisfied: charset-normalizer<4.0,>=2.0 in /Users/minseokbae/anaconda3/envs/ray-serve-env/lib/python3.9/site-packages (from aiohttp->datasets->optimum) (3.2.0)\n",
      "Requirement already satisfied: multidict<7.0,>=4.5 in /Users/minseokbae/anaconda3/envs/ray-serve-env/lib/python3.9/site-packages (from aiohttp->datasets->optimum) (6.0.4)\n",
      "Requirement already satisfied: async-timeout<5.0,>=4.0.0a3 in /Users/minseokbae/anaconda3/envs/ray-serve-env/lib/python3.9/site-packages (from aiohttp->datasets->optimum) (4.0.3)\n",
      "Requirement already satisfied: yarl<2.0,>=1.0 in /Users/minseokbae/anaconda3/envs/ray-serve-env/lib/python3.9/site-packages (from aiohttp->datasets->optimum) (1.9.2)\n",
      "Requirement already satisfied: frozenlist>=1.1.1 in /Users/minseokbae/anaconda3/envs/ray-serve-env/lib/python3.9/site-packages (from aiohttp->datasets->optimum) (1.4.0)\n",
      "Requirement already satisfied: aiosignal>=1.1.2 in /Users/minseokbae/anaconda3/envs/ray-serve-env/lib/python3.9/site-packages (from aiohttp->datasets->optimum) (1.3.1)\n",
      "Requirement already satisfied: idna<4,>=2.5 in /Users/minseokbae/anaconda3/envs/ray-serve-env/lib/python3.9/site-packages (from requests->huggingface-hub>=0.8.0->optimum) (3.4)\n",
      "Requirement already satisfied: urllib3<3,>=1.21.1 in /Users/minseokbae/anaconda3/envs/ray-serve-env/lib/python3.9/site-packages (from requests->huggingface-hub>=0.8.0->optimum) (1.26.16)\n",
      "Requirement already satisfied: certifi>=2017.4.17 in /Users/minseokbae/anaconda3/envs/ray-serve-env/lib/python3.9/site-packages (from requests->huggingface-hub>=0.8.0->optimum) (2023.7.22)\n",
      "Requirement already satisfied: MarkupSafe>=2.0 in /Users/minseokbae/anaconda3/envs/ray-serve-env/lib/python3.9/site-packages (from jinja2->torch>=1.9->optimum) (2.1.3)\n",
      "Requirement already satisfied: python-dateutil>=2.8.2 in /Users/minseokbae/anaconda3/envs/ray-serve-env/lib/python3.9/site-packages (from pandas->datasets->optimum) (2.8.2)\n",
      "Collecting pytz>=2020.1 (from pandas->datasets->optimum)\n",
      "  Obtaining dependency information for pytz>=2020.1 from https://files.pythonhosted.org/packages/32/4d/aaf7eff5deb402fd9a24a1449a8119f00d74ae9c2efa79f8ef9994261fc2/pytz-2023.3.post1-py2.py3-none-any.whl.metadata\n",
      "  Downloading pytz-2023.3.post1-py2.py3-none-any.whl.metadata (22 kB)\n",
      "Collecting tzdata>=2022.1 (from pandas->datasets->optimum)\n",
      "  Using cached tzdata-2023.3-py2.py3-none-any.whl (341 kB)\n",
      "Requirement already satisfied: six>=1.5 in /Users/minseokbae/anaconda3/envs/ray-serve-env/lib/python3.9/site-packages (from python-dateutil>=2.8.2->pandas->datasets->optimum) (1.16.0)\n",
      "Downloading datasets-2.14.5-py3-none-any.whl (519 kB)\n",
      "\u001b[2K   \u001b[90m━━━━━━━━━━━━━━━━━━━━━━━━━━━━━━━━━━━━━━━━\u001b[0m \u001b[32m519.6/519.6 kB\u001b[0m \u001b[31m9.3 MB/s\u001b[0m eta \u001b[36m0:00:00\u001b[0mta \u001b[36m0:00:01\u001b[0m\n",
      "\u001b[?25hUsing cached dill-0.3.7-py3-none-any.whl (115 kB)\n",
      "Downloading pyarrow-13.0.0-cp39-cp39-macosx_11_0_arm64.whl (23.7 MB)\n",
      "\u001b[2K   \u001b[90m━━━━━━━━━━━━━━━━━━━━━━━━━━━━━━━━━━━━━━━━\u001b[0m \u001b[32m23.7/23.7 MB\u001b[0m \u001b[31m1.1 MB/s\u001b[0m eta \u001b[36m0:00:00\u001b[0m00:01\u001b[0m00:01\u001b[0m\n",
      "\u001b[?25hUsing cached fsspec-2023.6.0-py3-none-any.whl (163 kB)\n",
      "Downloading multiprocess-0.70.15-py39-none-any.whl (133 kB)\n",
      "\u001b[2K   \u001b[90m━━━━━━━━━━━━━━━━━━━━━━━━━━━━━━━━━━━━━━━━\u001b[0m \u001b[32m133.3/133.3 kB\u001b[0m \u001b[31m1.2 MB/s\u001b[0m eta \u001b[36m0:00:00\u001b[0m00:01\u001b[0m0:01\u001b[0m\n",
      "\u001b[?25hDownloading pandas-2.1.1-cp39-cp39-macosx_11_0_arm64.whl (10.9 MB)\n",
      "\u001b[2K   \u001b[90m━━━━━━━━━━━━━━━━━━━━━━━━━━━━━━━━━━━━━━━━\u001b[0m \u001b[32m10.9/10.9 MB\u001b[0m \u001b[31m1.2 MB/s\u001b[0m eta \u001b[36m0:00:00\u001b[0m00:01\u001b[0m00:01\u001b[0m\n",
      "\u001b[?25hDownloading xxhash-3.3.0-cp39-cp39-macosx_11_0_arm64.whl (30 kB)\n",
      "Downloading pytz-2023.3.post1-py2.py3-none-any.whl (502 kB)\n",
      "\u001b[2K   \u001b[90m━━━━━━━━━━━━━━━━━━━━━━━━━━━━━━━━━━━━━━━━\u001b[0m \u001b[32m502.5/502.5 kB\u001b[0m \u001b[31m1.1 MB/s\u001b[0m eta \u001b[36m0:00:00\u001b[0ma \u001b[36m0:00:01\u001b[0mm\n",
      "\u001b[?25hBuilding wheels for collected packages: optimum\n",
      "  Building wheel for optimum (pyproject.toml) ... \u001b[?25ldone\n",
      "\u001b[?25h  Created wheel for optimum: filename=optimum-1.13.2-py3-none-any.whl size=395599 sha256=51d3c48c5006910f4b465c59c96987caa0e89d542a06804dd3e322b4cea270b6\n",
      "  Stored in directory: /Users/minseokbae/Library/Caches/pip/wheels/1e/93/86/e906618e68a70f98c658f412eb13a77bed5926b98c76a98032\n",
      "Successfully built optimum\n",
      "Installing collected packages: pytz, xxhash, tzdata, pyarrow, humanfriendly, fsspec, dill, pandas, multiprocess, coloredlogs, datasets, optimum\n",
      "  Attempting uninstall: fsspec\n",
      "    Found existing installation: fsspec 2023.9.0\n",
      "    Uninstalling fsspec-2023.9.0:\n",
      "      Successfully uninstalled fsspec-2023.9.0\n",
      "Successfully installed coloredlogs-15.0.1 datasets-2.14.5 dill-0.3.7 fsspec-2023.6.0 humanfriendly-10.0 multiprocess-0.70.15 optimum-1.13.2 pandas-2.1.1 pyarrow-13.0.0 pytz-2023.3.post1 tzdata-2023.3 xxhash-3.3.0\n",
      "Note: you may need to restart the kernel to use updated packages.\n"
     ]
    },
    {
     "name": "stderr",
     "output_type": "stream",
     "text": [
      "The BetterTransformer implementation does not support padding during training, as the fused kernels do not support attention masks. Beware that passing padded batched data during training may result in unexpected outputs. Please refer to https://huggingface.co/docs/optimum/bettertransformer/overview for more details.\n"
     ]
    }
   ],
   "source": [
    "%pip install optimum\n",
    "# Convert the model into Better Transformer format to run faster\n",
    "from optimum.bettertransformer import BetterTransformer\n",
    "bt_model = BetterTransformer.transform(model, keep_original_model=True)"
   ]
  },
  {
   "cell_type": "code",
   "execution_count": 10,
   "metadata": {},
   "outputs": [
    {
     "name": "stderr",
     "output_type": "stream",
     "text": [
      "Downloading (…)lve/main/config.json: 100%|██████████| 483/483 [00:00<00:00, 217kB/s]\n",
      "Downloading model.safetensors: 100%|██████████| 268M/268M [03:31<00:00, 1.27MB/s] \n",
      "The BetterTransformer implementation does not support padding during training, as the fused kernels do not support attention masks. Beware that passing padded batched data during training may result in unexpected outputs. Please refer to https://huggingface.co/docs/optimum/bettertransformer/overview for more details.\n",
      "Downloading (…)okenizer_config.json: 100%|██████████| 28.0/28.0 [00:00<00:00, 14.3kB/s]\n",
      "Downloading (…)solve/main/vocab.txt: 100%|██████████| 232k/232k [00:00<00:00, 7.22MB/s]\n",
      "Downloading (…)/main/tokenizer.json: 100%|██████████| 466k/466k [00:00<00:00, 3.30MB/s]\n",
      "/Users/minseokbae/anaconda3/envs/ray-serve-env/lib/python3.9/site-packages/optimum/bettertransformer/models/encoder_models.py:868: UserWarning: The PyTorch API of nested tensors is in prototype stage and will change in the near future. (Triggered internally at /Users/runner/work/pytorch/pytorch/pytorch/aten/src/ATen/NestedTensorImpl.cpp:179.)\n",
      "  hidden_states = torch._nested_tensor_from_mask(hidden_states, attn_mask)\n"
     ]
    },
    {
     "data": {
      "text/plain": [
       "[{'score': 0.07488887012004852,\n",
       "  'token': 20325,\n",
       "  'token_str': 'donkey',\n",
       "  'sequence': 'my favorite animal is a donkey'},\n",
       " {'score': 0.07192376255989075,\n",
       "  'token': 10442,\n",
       "  'token_str': 'rabbit',\n",
       "  'sequence': 'my favorite animal is a rabbit'},\n",
       " {'score': 0.05241290107369423,\n",
       "  'token': 1012,\n",
       "  'token_str': '.',\n",
       "  'sequence': 'my favorite animal is a.'},\n",
       " {'score': 0.0469793938100338,\n",
       "  'token': 8448,\n",
       "  'token_str': 'deer',\n",
       "  'sequence': 'my favorite animal is a deer'},\n",
       " {'score': 0.03875979781150818,\n",
       "  'token': 18197,\n",
       "  'token_str': 'squirrel',\n",
       "  'sequence': 'my favorite animal is a squirrel'}]"
      ]
     },
     "execution_count": 10,
     "metadata": {},
     "output_type": "execute_result"
    }
   ],
   "source": [
    "# Use pipeline to run the model\n",
    "\n",
    "from optimum.pipelines import pipeline\n",
    "unmasked = pipeline(\"fill-mask\", \"distilbert-base-uncased\", accelerator=\"bettertransformer\")\n",
    "unmasked(\"My favorite animal is a [MASK]\")"
   ]
  },
  {
   "cell_type": "code",
   "execution_count": 11,
   "metadata": {},
   "outputs": [],
   "source": [
    "# define an inference function that uses the pipeline\n",
    "@serve.deployment\n",
    "def masked(request):\n",
    "    return unmasked(request.query_params[\"text\"])"
   ]
  },
  {
   "cell_type": "code",
   "execution_count": 12,
   "metadata": {},
   "outputs": [
    {
     "name": "stderr",
     "output_type": "stream",
     "text": [
      "\u001b[2m\u001b[36m(ServeController pid=21087)\u001b[0m INFO 2023-09-25 18:21:15,008 controller 21087 deployment_state.py:1308 - Deploying new version of deployment masked.\n",
      "\u001b[2m\u001b[36m(ServeController pid=21087)\u001b[0m INFO 2023-09-25 18:21:15,043 controller 21087 deployment_state.py:1571 - Adding 1 replica to deployment masked.\n",
      "\u001b[2m\u001b[36m(ServeController pid=21087)\u001b[0m WARNING 2023-09-25 18:21:45,300 controller 21087 deployment_state.py:1882 - Deployment \"masked\" has 1 replicas that have taken more than 30s to be scheduled. This may be caused by waiting for the cluster to auto-scale, or waiting for a runtime environment to install. Resources required for each replica: {\"CPU\": 1}, resources available: {\"CPU\": 6.0}.\n"
     ]
    }
   ],
   "source": [
    "masked.deploy()"
   ]
  },
  {
   "cell_type": "code",
   "execution_count": 13,
   "metadata": {},
   "outputs": [
    {
     "name": "stderr",
     "output_type": "stream",
     "text": [
      "\u001b[2m\u001b[36m(ServeReplica:masked pid=24673)\u001b[0m /Users/minseokbae/anaconda3/envs/ray-serve-env/lib/python3.9/site-packages/optimum/bettertransformer/models/encoder_models.py:868: UserWarning: The PyTorch API of nested tensors is in prototype stage and will change in the near future. (Triggered internally at /Users/runner/work/pytorch/pytorch/pytorch/aten/src/ATen/NestedTensorImpl.cpp:179.)\n",
      "\u001b[2m\u001b[36m(ServeReplica:masked pid=24673)\u001b[0m   hidden_states = torch._nested_tensor_from_mask(hidden_states, attn_mask)\n"
     ]
    },
    {
     "name": "stdout",
     "output_type": "stream",
     "text": [
      "[{\"score\": 0.07488887012004852, \"token\": 20325, \"token_str\": \"donkey\", \"sequence\": \"my favorite animal is a donkey\"}, {\"score\": 0.07192376255989075, \"token\": 10442, \"token_str\": \"rabbit\", \"sequence\": \"my favorite animal is a rabbit\"}, {\"score\": 0.05241290107369423, \"token\": 1012, \"token_str\": \".\", \"sequence\": \"my favorite animal is a.\"}, {\"score\": 0.0469793938100338, \"token\": 8448, \"token_str\": \"deer\", \"sequence\": \"my favorite animal is a deer\"}, {\"score\": 0.03875979781150818, \"token\": 18197, \"token_str\": \"squirrel\", \"sequence\": \"my favorite animal is a squirrel\"}]\n"
     ]
    },
    {
     "name": "stderr",
     "output_type": "stream",
     "text": [
      "\u001b[2m\u001b[36m(ServeReplica:masked pid=24673)\u001b[0m INFO 2023-09-25 18:23:20,072 masked masked#SuJmlA sbHAscMQcx /masked replica.py:723 - __CALL__ OK 1028.7ms\n"
     ]
    }
   ],
   "source": [
    "response = requests.get(\"http://127.0.0.1:8000/masked?text=My favorite animal is a [MASK]\").text\n",
    "print(response)\n"
   ]
  },
  {
   "cell_type": "code",
   "execution_count": 14,
   "metadata": {},
   "outputs": [
    {
     "name": "stdout",
     "output_type": "stream",
     "text": [
      "[{\"score\": 0.05190018564462662, \"token\": 5765, \"token_str\": \"harvard\", \"sequence\": \"i go to harvard university.\"}, {\"score\": 0.043821074068546295, \"token\": 8422, \"token_str\": \"stanford\", \"sequence\": \"i go to stanford university.\"}, {\"score\": 0.042906805872917175, \"token\": 7996, \"token_str\": \"yale\", \"sequence\": \"i go to yale university.\"}, {\"score\": 0.03194918856024742, \"token\": 10921, \"token_str\": \"cornell\", \"sequence\": \"i go to cornell university.\"}, {\"score\": 0.02128937654197216, \"token\": 9173, \"token_str\": \"princeton\", \"sequence\": \"i go to princeton university.\"}]\n"
     ]
    },
    {
     "name": "stderr",
     "output_type": "stream",
     "text": [
      "\u001b[2m\u001b[36m(ServeReplica:masked pid=24673)\u001b[0m INFO 2023-09-25 18:24:40,211 masked masked#SuJmlA vDvTEBVPPn /masked replica.py:723 - __CALL__ OK 2093.4ms\n"
     ]
    }
   ],
   "source": [
    "response2 = requests.get(\"http://127.0.0.1:8000/masked?text=I go to [MASK] university.\").text\n",
    "print(response2)"
   ]
  }
 ],
 "metadata": {
  "kernelspec": {
   "display_name": "ray-serve-env",
   "language": "python",
   "name": "python3"
  },
  "language_info": {
   "codemirror_mode": {
    "name": "ipython",
    "version": 3
   },
   "file_extension": ".py",
   "mimetype": "text/x-python",
   "name": "python",
   "nbconvert_exporter": "python",
   "pygments_lexer": "ipython3",
   "version": "3.9.18"
  },
  "orig_nbformat": 4
 },
 "nbformat": 4,
 "nbformat_minor": 2
}
