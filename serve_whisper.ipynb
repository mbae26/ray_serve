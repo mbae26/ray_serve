{
 "cells": [
  {
   "cell_type": "code",
   "execution_count": 1,
   "metadata": {},
   "outputs": [
    {
     "name": "stdout",
     "output_type": "stream",
     "text": [
      "Defaulting to user installation because normal site-packages is not writeable\n",
      "Collecting openai-whisper\n",
      "  Downloading openai-whisper-20230314.tar.gz (792 kB)\n",
      "\u001b[K     |████████████████████████████████| 792 kB 1.3 MB/s eta 0:00:01\n",
      "\u001b[?25h\u001b[33m  WARNING: Value for prefixed-purelib does not match. Please report this to <https://github.com/pypa/pip/issues/10151>\n",
      "  distutils: /private/var/folders/sq/pjwy2d1s15q5w6qp6w5l6bp40000gn/T/pip-build-env-dlv2ms32/normal/lib/python3.9/site-packages\n",
      "  sysconfig: /Library/Python/3.9/site-packages\u001b[0m\n",
      "\u001b[33m  WARNING: Value for prefixed-platlib does not match. Please report this to <https://github.com/pypa/pip/issues/10151>\n",
      "  distutils: /private/var/folders/sq/pjwy2d1s15q5w6qp6w5l6bp40000gn/T/pip-build-env-dlv2ms32/normal/lib/python3.9/site-packages\n",
      "  sysconfig: /Library/Python/3.9/site-packages\u001b[0m\n",
      "\u001b[33m  WARNING: Additional context:\n",
      "  user = False\n",
      "  home = None\n",
      "  root = None\n",
      "  prefix = '/private/var/folders/sq/pjwy2d1s15q5w6qp6w5l6bp40000gn/T/pip-build-env-dlv2ms32/normal'\u001b[0m\n",
      "\u001b[33m  WARNING: Value for prefixed-purelib does not match. Please report this to <https://github.com/pypa/pip/issues/10151>\n",
      "  distutils: /private/var/folders/sq/pjwy2d1s15q5w6qp6w5l6bp40000gn/T/pip-build-env-dlv2ms32/overlay/lib/python3.9/site-packages\n",
      "  sysconfig: /Library/Python/3.9/site-packages\u001b[0m\n",
      "\u001b[33m  WARNING: Value for prefixed-platlib does not match. Please report this to <https://github.com/pypa/pip/issues/10151>\n",
      "  distutils: /private/var/folders/sq/pjwy2d1s15q5w6qp6w5l6bp40000gn/T/pip-build-env-dlv2ms32/overlay/lib/python3.9/site-packages\n",
      "  sysconfig: /Library/Python/3.9/site-packages\u001b[0m\n",
      "\u001b[33m  WARNING: Additional context:\n",
      "  user = False\n",
      "  home = None\n",
      "  root = None\n",
      "  prefix = '/private/var/folders/sq/pjwy2d1s15q5w6qp6w5l6bp40000gn/T/pip-build-env-dlv2ms32/overlay'\u001b[0m\n",
      "  Installing build dependencies ... \u001b[?25ldone\n",
      "\u001b[?25h  Getting requirements to build wheel ... \u001b[?25ldone\n",
      "\u001b[?25h    Preparing wheel metadata ... \u001b[?25ldone\n",
      "\u001b[?25hCollecting ffmpeg-python==0.2.0\n",
      "  Using cached ffmpeg_python-0.2.0-py3-none-any.whl (25 kB)\n",
      "Collecting more-itertools\n",
      "  Downloading more_itertools-10.1.0-py3-none-any.whl (55 kB)\n",
      "\u001b[K     |████████████████████████████████| 55 kB 4.4 MB/s eta 0:00:01\n",
      "\u001b[?25hCollecting tiktoken==0.3.1\n",
      "  Downloading tiktoken-0.3.1-cp39-cp39-macosx_11_0_arm64.whl (701 kB)\n",
      "\u001b[K     |████████████████████████████████| 701 kB 6.4 MB/s eta 0:00:01\n",
      "\u001b[?25hRequirement already satisfied: numpy in /Users/minseokbae/Library/Python/3.9/lib/python/site-packages (from openai-whisper) (1.25.2)\n",
      "Collecting numba\n",
      "  Downloading numba-0.57.1-cp39-cp39-macosx_11_0_arm64.whl (2.5 MB)\n",
      "\u001b[K     |████████████████████████████████| 2.5 MB 4.3 MB/s eta 0:00:01\n",
      "\u001b[?25hRequirement already satisfied: tqdm in /Users/minseokbae/Library/Python/3.9/lib/python/site-packages (from openai-whisper) (4.66.1)\n",
      "Requirement already satisfied: torch in /Users/minseokbae/Library/Python/3.9/lib/python/site-packages (from openai-whisper) (2.0.1)\n",
      "Requirement already satisfied: future in /Library/Developer/CommandLineTools/Library/Frameworks/Python3.framework/Versions/3.9/lib/python3.9/site-packages (from ffmpeg-python==0.2.0->openai-whisper) (0.18.2)\n",
      "Requirement already satisfied: regex>=2022.1.18 in /Users/minseokbae/Library/Python/3.9/lib/python/site-packages (from tiktoken==0.3.1->openai-whisper) (2023.8.8)\n",
      "Requirement already satisfied: requests>=2.26.0 in /Users/minseokbae/Library/Python/3.9/lib/python/site-packages (from tiktoken==0.3.1->openai-whisper) (2.31.0)\n",
      "Requirement already satisfied: charset-normalizer<4,>=2 in /Users/minseokbae/Library/Python/3.9/lib/python/site-packages (from requests>=2.26.0->tiktoken==0.3.1->openai-whisper) (3.2.0)\n",
      "Requirement already satisfied: certifi>=2017.4.17 in /Users/minseokbae/Library/Python/3.9/lib/python/site-packages (from requests>=2.26.0->tiktoken==0.3.1->openai-whisper) (2023.7.22)\n",
      "Requirement already satisfied: urllib3<3,>=1.21.1 in /Users/minseokbae/Library/Python/3.9/lib/python/site-packages (from requests>=2.26.0->tiktoken==0.3.1->openai-whisper) (1.26.16)\n",
      "Requirement already satisfied: idna<4,>=2.5 in /Users/minseokbae/Library/Python/3.9/lib/python/site-packages (from requests>=2.26.0->tiktoken==0.3.1->openai-whisper) (3.4)\n",
      "Collecting llvmlite<0.41,>=0.40.0dev0\n",
      "  Downloading llvmlite-0.40.1-cp39-cp39-macosx_11_0_arm64.whl (28.1 MB)\n",
      "\u001b[K     |████████████████████████████████| 28.1 MB 549 kB/s eta 0:00:01\n",
      "\u001b[?25hCollecting numpy\n",
      "  Downloading numpy-1.24.4-cp39-cp39-macosx_11_0_arm64.whl (13.9 MB)\n",
      "\u001b[K     |████████████████████████████████| 13.9 MB 2.0 MB/s eta 0:00:01\n",
      "\u001b[?25hRequirement already satisfied: networkx in /Users/minseokbae/Library/Python/3.9/lib/python/site-packages (from torch->openai-whisper) (3.1)\n",
      "Requirement already satisfied: typing-extensions in /Users/minseokbae/Library/Python/3.9/lib/python/site-packages (from torch->openai-whisper) (4.7.1)\n",
      "Requirement already satisfied: filelock in /Users/minseokbae/Library/Python/3.9/lib/python/site-packages (from torch->openai-whisper) (3.12.4)\n",
      "Requirement already satisfied: sympy in /Users/minseokbae/Library/Python/3.9/lib/python/site-packages (from torch->openai-whisper) (1.12)\n",
      "Requirement already satisfied: jinja2 in /Users/minseokbae/Library/Python/3.9/lib/python/site-packages (from torch->openai-whisper) (3.1.2)\n",
      "Requirement already satisfied: MarkupSafe>=2.0 in /Users/minseokbae/Library/Python/3.9/lib/python/site-packages (from jinja2->torch->openai-whisper) (2.1.3)\n",
      "Requirement already satisfied: mpmath>=0.19 in /Users/minseokbae/Library/Python/3.9/lib/python/site-packages (from sympy->torch->openai-whisper) (1.3.0)\n",
      "Building wheels for collected packages: openai-whisper\n",
      "  Building wheel for openai-whisper (PEP 517) ... \u001b[?25ldone\n",
      "\u001b[?25h  Created wheel for openai-whisper: filename=openai_whisper-20230314-py3-none-any.whl size=796916 sha256=726aeff4610c39abbd64f4ae81c4cf854ee8d8be7749dc3e945c918385972275\n",
      "  Stored in directory: /Users/minseokbae/Library/Caches/pip/wheels/c4/85/e6/0bb9507b8e4f3f6d9c6dcf318bc3514739430375aa8e9eaf5b\n",
      "Successfully built openai-whisper\n",
      "Installing collected packages: numpy, llvmlite, tiktoken, numba, more-itertools, ffmpeg-python, openai-whisper\n",
      "  Attempting uninstall: numpy\n",
      "    Found existing installation: numpy 1.25.2\n",
      "    Uninstalling numpy-1.25.2:\n",
      "      Successfully uninstalled numpy-1.25.2\n",
      "Successfully installed ffmpeg-python-0.2.0 llvmlite-0.40.1 more-itertools-10.1.0 numba-0.57.1 numpy-1.24.4 openai-whisper-20230314 tiktoken-0.3.1\n",
      "\u001b[33mWARNING: You are using pip version 21.2.4; however, version 23.2.1 is available.\n",
      "You should consider upgrading via the '/Library/Developer/CommandLineTools/usr/bin/python3 -m pip install --upgrade pip' command.\u001b[0m\n",
      "Note: you may need to restart the kernel to use updated packages.\n"
     ]
    }
   ],
   "source": [
    "%pip install -U openai-whisper"
   ]
  },
  {
   "cell_type": "code",
   "execution_count": 2,
   "metadata": {},
   "outputs": [
    {
     "name": "stderr",
     "output_type": "stream",
     "text": [
      "/Users/minseokbae/Library/Python/3.9/lib/python/site-packages/whisper/timing.py:58: NumbaDeprecationWarning: The 'nopython' keyword argument was not supplied to the 'numba.jit' decorator. The implicit default value for this argument is currently False, but it will be changed to True in Numba 0.59.0. See https://numba.readthedocs.io/en/stable/reference/deprecation.html#deprecation-of-object-mode-fall-back-behaviour-when-using-jit for details.\n",
      "  def backtrace(trace: np.ndarray):\n",
      "100%|███████████████████████████████████████| 139M/139M [00:31<00:00, 4.66MiB/s]\n"
     ]
    }
   ],
   "source": [
    "import whisper\n",
    "model = whisper.load_model('base')"
   ]
  },
  {
   "cell_type": "code",
   "execution_count": 4,
   "metadata": {},
   "outputs": [
    {
     "name": "stdout",
     "output_type": "stream",
     "text": [
      "Defaulting to user installation because normal site-packages is not writeable\n",
      "Requirement already satisfied: ray[serve] in /Users/minseokbae/Library/Python/3.9/lib/python/site-packages (2.6.3)\n",
      "Requirement already satisfied: click>=7.0 in /Users/minseokbae/Library/Python/3.9/lib/python/site-packages (from ray[serve]) (8.1.7)\n",
      "Requirement already satisfied: packaging in /Users/minseokbae/Library/Python/3.9/lib/python/site-packages (from ray[serve]) (23.1)\n",
      "Requirement already satisfied: filelock in /Users/minseokbae/Library/Python/3.9/lib/python/site-packages (from ray[serve]) (3.12.4)\n",
      "Requirement already satisfied: grpcio>=1.32.0 in /Users/minseokbae/Library/Python/3.9/lib/python/site-packages (from ray[serve]) (1.58.0)\n",
      "Requirement already satisfied: pyyaml in /Users/minseokbae/Library/Python/3.9/lib/python/site-packages (from ray[serve]) (6.0.1)\n",
      "Requirement already satisfied: msgpack<2.0.0,>=1.0.0 in /Users/minseokbae/Library/Python/3.9/lib/python/site-packages (from ray[serve]) (1.0.5)\n",
      "Requirement already satisfied: aiosignal in /Users/minseokbae/Library/Python/3.9/lib/python/site-packages (from ray[serve]) (1.3.1)\n",
      "Requirement already satisfied: requests in /Users/minseokbae/Library/Python/3.9/lib/python/site-packages (from ray[serve]) (2.31.0)\n",
      "Requirement already satisfied: frozenlist in /Users/minseokbae/Library/Python/3.9/lib/python/site-packages (from ray[serve]) (1.4.0)\n",
      "Requirement already satisfied: numpy>=1.19.3 in /Users/minseokbae/Library/Python/3.9/lib/python/site-packages (from ray[serve]) (1.24.4)\n",
      "Requirement already satisfied: jsonschema in /Users/minseokbae/Library/Python/3.9/lib/python/site-packages (from ray[serve]) (4.19.0)\n",
      "Requirement already satisfied: protobuf!=3.19.5,>=3.15.3 in /Users/minseokbae/Library/Python/3.9/lib/python/site-packages (from ray[serve]) (4.24.3)\n",
      "Requirement already satisfied: aiohttp-cors in /Users/minseokbae/Library/Python/3.9/lib/python/site-packages (from ray[serve]) (0.7.0)\n",
      "Requirement already satisfied: fastapi in /Users/minseokbae/Library/Python/3.9/lib/python/site-packages (from ray[serve]) (0.103.1)\n",
      "Requirement already satisfied: virtualenv<20.21.1,>=20.0.24 in /Users/minseokbae/Library/Python/3.9/lib/python/site-packages (from ray[serve]) (20.21.0)\n",
      "Requirement already satisfied: uvicorn in /Users/minseokbae/Library/Python/3.9/lib/python/site-packages (from ray[serve]) (0.23.2)\n",
      "Requirement already satisfied: opencensus in /Users/minseokbae/Library/Python/3.9/lib/python/site-packages (from ray[serve]) (0.11.2)\n",
      "Requirement already satisfied: colorful in /Users/minseokbae/Library/Python/3.9/lib/python/site-packages (from ray[serve]) (0.5.5)\n",
      "Requirement already satisfied: smart-open in /Users/minseokbae/Library/Python/3.9/lib/python/site-packages (from ray[serve]) (6.4.0)\n",
      "Requirement already satisfied: prometheus-client>=0.7.1 in /Users/minseokbae/Library/Python/3.9/lib/python/site-packages (from ray[serve]) (0.17.1)\n",
      "Requirement already satisfied: aiorwlock in /Users/minseokbae/Library/Python/3.9/lib/python/site-packages (from ray[serve]) (1.3.0)\n",
      "Requirement already satisfied: starlette in /Users/minseokbae/Library/Python/3.9/lib/python/site-packages (from ray[serve]) (0.27.0)\n",
      "Requirement already satisfied: aiohttp>=3.7 in /Users/minseokbae/Library/Python/3.9/lib/python/site-packages (from ray[serve]) (3.8.5)\n",
      "Requirement already satisfied: pydantic<2 in /Users/minseokbae/Library/Python/3.9/lib/python/site-packages (from ray[serve]) (1.10.12)\n",
      "Requirement already satisfied: gpustat>=1.0.0 in /Users/minseokbae/Library/Python/3.9/lib/python/site-packages (from ray[serve]) (1.1.1)\n",
      "Requirement already satisfied: py-spy>=0.2.0 in /Users/minseokbae/Library/Python/3.9/lib/python/site-packages (from ray[serve]) (0.3.14)\n",
      "Requirement already satisfied: yarl<2.0,>=1.0 in /Users/minseokbae/Library/Python/3.9/lib/python/site-packages (from aiohttp>=3.7->ray[serve]) (1.9.2)\n",
      "Requirement already satisfied: multidict<7.0,>=4.5 in /Users/minseokbae/Library/Python/3.9/lib/python/site-packages (from aiohttp>=3.7->ray[serve]) (6.0.4)\n",
      "Requirement already satisfied: async-timeout<5.0,>=4.0.0a3 in /Users/minseokbae/Library/Python/3.9/lib/python/site-packages (from aiohttp>=3.7->ray[serve]) (4.0.3)\n",
      "Requirement already satisfied: charset-normalizer<4.0,>=2.0 in /Users/minseokbae/Library/Python/3.9/lib/python/site-packages (from aiohttp>=3.7->ray[serve]) (3.2.0)\n",
      "Requirement already satisfied: attrs>=17.3.0 in /Users/minseokbae/Library/Python/3.9/lib/python/site-packages (from aiohttp>=3.7->ray[serve]) (23.1.0)\n",
      "Requirement already satisfied: blessed>=1.17.1 in /Users/minseokbae/Library/Python/3.9/lib/python/site-packages (from gpustat>=1.0.0->ray[serve]) (1.20.0)\n",
      "Requirement already satisfied: psutil>=5.6.0 in /Users/minseokbae/Library/Python/3.9/lib/python/site-packages (from gpustat>=1.0.0->ray[serve]) (5.9.5)\n",
      "Requirement already satisfied: nvidia-ml-py>=11.450.129 in /Users/minseokbae/Library/Python/3.9/lib/python/site-packages (from gpustat>=1.0.0->ray[serve]) (12.535.108)\n",
      "Requirement already satisfied: wcwidth>=0.1.4 in /Users/minseokbae/Library/Python/3.9/lib/python/site-packages (from blessed>=1.17.1->gpustat>=1.0.0->ray[serve]) (0.2.6)\n",
      "Requirement already satisfied: six>=1.9.0 in /Library/Developer/CommandLineTools/Library/Frameworks/Python3.framework/Versions/3.9/lib/python3.9/site-packages (from blessed>=1.17.1->gpustat>=1.0.0->ray[serve]) (1.15.0)\n",
      "Requirement already satisfied: typing-extensions>=4.2.0 in /Users/minseokbae/Library/Python/3.9/lib/python/site-packages (from pydantic<2->ray[serve]) (4.7.1)\n",
      "Requirement already satisfied: distlib<1,>=0.3.6 in /Users/minseokbae/Library/Python/3.9/lib/python/site-packages (from virtualenv<20.21.1,>=20.0.24->ray[serve]) (0.3.7)\n",
      "Requirement already satisfied: platformdirs<4,>=2.4 in /Users/minseokbae/Library/Python/3.9/lib/python/site-packages (from virtualenv<20.21.1,>=20.0.24->ray[serve]) (3.10.0)\n",
      "Requirement already satisfied: idna>=2.0 in /Users/minseokbae/Library/Python/3.9/lib/python/site-packages (from yarl<2.0,>=1.0->aiohttp>=3.7->ray[serve]) (3.4)\n",
      "Requirement already satisfied: anyio<4.0.0,>=3.7.1 in /Users/minseokbae/Library/Python/3.9/lib/python/site-packages (from fastapi->ray[serve]) (3.7.1)\n",
      "Requirement already satisfied: sniffio>=1.1 in /Users/minseokbae/Library/Python/3.9/lib/python/site-packages (from anyio<4.0.0,>=3.7.1->fastapi->ray[serve]) (1.3.0)\n",
      "Requirement already satisfied: exceptiongroup in /Users/minseokbae/Library/Python/3.9/lib/python/site-packages (from anyio<4.0.0,>=3.7.1->fastapi->ray[serve]) (1.1.3)\n",
      "Requirement already satisfied: jsonschema-specifications>=2023.03.6 in /Users/minseokbae/Library/Python/3.9/lib/python/site-packages (from jsonschema->ray[serve]) (2023.7.1)\n",
      "Requirement already satisfied: referencing>=0.28.4 in /Users/minseokbae/Library/Python/3.9/lib/python/site-packages (from jsonschema->ray[serve]) (0.30.2)\n",
      "Requirement already satisfied: rpds-py>=0.7.1 in /Users/minseokbae/Library/Python/3.9/lib/python/site-packages (from jsonschema->ray[serve]) (0.10.3)\n",
      "Requirement already satisfied: google-api-core<3.0.0,>=1.0.0 in /Users/minseokbae/Library/Python/3.9/lib/python/site-packages (from opencensus->ray[serve]) (2.11.1)\n",
      "Requirement already satisfied: opencensus-context>=0.1.3 in /Users/minseokbae/Library/Python/3.9/lib/python/site-packages (from opencensus->ray[serve]) (0.1.3)\n",
      "Requirement already satisfied: googleapis-common-protos<2.0.dev0,>=1.56.2 in /Users/minseokbae/Library/Python/3.9/lib/python/site-packages (from google-api-core<3.0.0,>=1.0.0->opencensus->ray[serve]) (1.60.0)\n",
      "Requirement already satisfied: google-auth<3.0.dev0,>=2.14.1 in /Users/minseokbae/Library/Python/3.9/lib/python/site-packages (from google-api-core<3.0.0,>=1.0.0->opencensus->ray[serve]) (2.23.0)\n",
      "Requirement already satisfied: pyasn1-modules>=0.2.1 in /Users/minseokbae/Library/Python/3.9/lib/python/site-packages (from google-auth<3.0.dev0,>=2.14.1->google-api-core<3.0.0,>=1.0.0->opencensus->ray[serve]) (0.3.0)\n",
      "Requirement already satisfied: rsa<5,>=3.1.4 in /Users/minseokbae/Library/Python/3.9/lib/python/site-packages (from google-auth<3.0.dev0,>=2.14.1->google-api-core<3.0.0,>=1.0.0->opencensus->ray[serve]) (4.9)\n",
      "Requirement already satisfied: urllib3<2.0 in /Users/minseokbae/Library/Python/3.9/lib/python/site-packages (from google-auth<3.0.dev0,>=2.14.1->google-api-core<3.0.0,>=1.0.0->opencensus->ray[serve]) (1.26.16)\n",
      "Requirement already satisfied: cachetools<6.0,>=2.0.0 in /Users/minseokbae/Library/Python/3.9/lib/python/site-packages (from google-auth<3.0.dev0,>=2.14.1->google-api-core<3.0.0,>=1.0.0->opencensus->ray[serve]) (5.3.1)\n",
      "Requirement already satisfied: pyasn1<0.6.0,>=0.4.6 in /Users/minseokbae/Library/Python/3.9/lib/python/site-packages (from pyasn1-modules>=0.2.1->google-auth<3.0.dev0,>=2.14.1->google-api-core<3.0.0,>=1.0.0->opencensus->ray[serve]) (0.5.0)\n",
      "Requirement already satisfied: certifi>=2017.4.17 in /Users/minseokbae/Library/Python/3.9/lib/python/site-packages (from requests->ray[serve]) (2023.7.22)\n",
      "Requirement already satisfied: h11>=0.8 in /Users/minseokbae/Library/Python/3.9/lib/python/site-packages (from uvicorn->ray[serve]) (0.14.0)\n",
      "\u001b[33mWARNING: You are using pip version 21.2.4; however, version 23.2.1 is available.\n",
      "You should consider upgrading via the '/Library/Developer/CommandLineTools/usr/bin/python3 -m pip install --upgrade pip' command.\u001b[0m\n",
      "Note: you may need to restart the kernel to use updated packages.\n",
      "Defaulting to user installation because normal site-packages is not writeable\n",
      "Requirement already satisfied: transformers in /Users/minseokbae/Library/Python/3.9/lib/python/site-packages (4.33.1)\n",
      "Requirement already satisfied: tokenizers!=0.11.3,<0.14,>=0.11.1 in /Users/minseokbae/Library/Python/3.9/lib/python/site-packages (from transformers) (0.13.3)\n",
      "Requirement already satisfied: numpy>=1.17 in /Users/minseokbae/Library/Python/3.9/lib/python/site-packages (from transformers) (1.24.4)\n",
      "Requirement already satisfied: tqdm>=4.27 in /Users/minseokbae/Library/Python/3.9/lib/python/site-packages (from transformers) (4.66.1)\n",
      "Requirement already satisfied: safetensors>=0.3.1 in /Users/minseokbae/Library/Python/3.9/lib/python/site-packages (from transformers) (0.3.3)\n",
      "Requirement already satisfied: pyyaml>=5.1 in /Users/minseokbae/Library/Python/3.9/lib/python/site-packages (from transformers) (6.0.1)\n",
      "Requirement already satisfied: packaging>=20.0 in /Users/minseokbae/Library/Python/3.9/lib/python/site-packages (from transformers) (23.1)\n",
      "Requirement already satisfied: regex!=2019.12.17 in /Users/minseokbae/Library/Python/3.9/lib/python/site-packages (from transformers) (2023.8.8)\n",
      "Requirement already satisfied: requests in /Users/minseokbae/Library/Python/3.9/lib/python/site-packages (from transformers) (2.31.0)\n",
      "Requirement already satisfied: huggingface-hub<1.0,>=0.15.1 in /Users/minseokbae/Library/Python/3.9/lib/python/site-packages (from transformers) (0.17.1)\n",
      "Requirement already satisfied: filelock in /Users/minseokbae/Library/Python/3.9/lib/python/site-packages (from transformers) (3.12.4)\n",
      "Requirement already satisfied: fsspec in /Users/minseokbae/Library/Python/3.9/lib/python/site-packages (from huggingface-hub<1.0,>=0.15.1->transformers) (2023.9.0)\n",
      "Requirement already satisfied: typing-extensions>=3.7.4.3 in /Users/minseokbae/Library/Python/3.9/lib/python/site-packages (from huggingface-hub<1.0,>=0.15.1->transformers) (4.7.1)\n",
      "Requirement already satisfied: idna<4,>=2.5 in /Users/minseokbae/Library/Python/3.9/lib/python/site-packages (from requests->transformers) (3.4)\n",
      "Requirement already satisfied: urllib3<3,>=1.21.1 in /Users/minseokbae/Library/Python/3.9/lib/python/site-packages (from requests->transformers) (1.26.16)\n",
      "Requirement already satisfied: certifi>=2017.4.17 in /Users/minseokbae/Library/Python/3.9/lib/python/site-packages (from requests->transformers) (2023.7.22)\n",
      "Requirement already satisfied: charset-normalizer<4,>=2 in /Users/minseokbae/Library/Python/3.9/lib/python/site-packages (from requests->transformers) (3.2.0)\n",
      "\u001b[33mWARNING: You are using pip version 21.2.4; however, version 23.2.1 is available.\n",
      "You should consider upgrading via the '/Library/Developer/CommandLineTools/usr/bin/python3 -m pip install --upgrade pip' command.\u001b[0m\n",
      "Note: you may need to restart the kernel to use updated packages.\n",
      "Defaulting to user installation because normal site-packages is not writeable\n",
      "Requirement already satisfied: requests in /Users/minseokbae/Library/Python/3.9/lib/python/site-packages (2.31.0)\n",
      "Requirement already satisfied: idna<4,>=2.5 in /Users/minseokbae/Library/Python/3.9/lib/python/site-packages (from requests) (3.4)\n",
      "Requirement already satisfied: urllib3<3,>=1.21.1 in /Users/minseokbae/Library/Python/3.9/lib/python/site-packages (from requests) (1.26.16)\n",
      "Requirement already satisfied: charset-normalizer<4,>=2 in /Users/minseokbae/Library/Python/3.9/lib/python/site-packages (from requests) (3.2.0)\n",
      "Requirement already satisfied: certifi>=2017.4.17 in /Users/minseokbae/Library/Python/3.9/lib/python/site-packages (from requests) (2023.7.22)\n",
      "\u001b[33mWARNING: You are using pip version 21.2.4; however, version 23.2.1 is available.\n",
      "You should consider upgrading via the '/Library/Developer/CommandLineTools/usr/bin/python3 -m pip install --upgrade pip' command.\u001b[0m\n",
      "Note: you may need to restart the kernel to use updated packages.\n",
      "Defaulting to user installation because normal site-packages is not writeable\n",
      "Requirement already satisfied: torch in /Users/minseokbae/Library/Python/3.9/lib/python/site-packages (2.0.1)\n",
      "Requirement already satisfied: networkx in /Users/minseokbae/Library/Python/3.9/lib/python/site-packages (from torch) (3.1)\n",
      "Requirement already satisfied: jinja2 in /Users/minseokbae/Library/Python/3.9/lib/python/site-packages (from torch) (3.1.2)\n",
      "Requirement already satisfied: filelock in /Users/minseokbae/Library/Python/3.9/lib/python/site-packages (from torch) (3.12.4)\n",
      "Requirement already satisfied: typing-extensions in /Users/minseokbae/Library/Python/3.9/lib/python/site-packages (from torch) (4.7.1)\n",
      "Requirement already satisfied: sympy in /Users/minseokbae/Library/Python/3.9/lib/python/site-packages (from torch) (1.12)\n",
      "Requirement already satisfied: MarkupSafe>=2.0 in /Users/minseokbae/Library/Python/3.9/lib/python/site-packages (from jinja2->torch) (2.1.3)\n",
      "Requirement already satisfied: mpmath>=0.19 in /Users/minseokbae/Library/Python/3.9/lib/python/site-packages (from sympy->torch) (1.3.0)\n",
      "\u001b[33mWARNING: You are using pip version 21.2.4; however, version 23.2.1 is available.\n",
      "You should consider upgrading via the '/Library/Developer/CommandLineTools/usr/bin/python3 -m pip install --upgrade pip' command.\u001b[0m\n",
      "Note: you may need to restart the kernel to use updated packages.\n"
     ]
    }
   ],
   "source": [
    "%pip install \"ray[serve]\" \n",
    "%pip install transformers\n",
    "%pip install requests\n",
    "%pip install torch"
   ]
  },
  {
   "cell_type": "code",
   "execution_count": 21,
   "metadata": {},
   "outputs": [
    {
     "name": "stdout",
     "output_type": "stream",
     "text": [
      "Defaulting to user installation because normal site-packages is not writeable\n",
      "Collecting soundfile\n",
      "  Downloading soundfile-0.12.1-py2.py3-none-macosx_11_0_arm64.whl (1.1 MB)\n",
      "\u001b[K     |████████████████████████████████| 1.1 MB 4.0 MB/s eta 0:00:01\n",
      "\u001b[?25hCollecting cffi>=1.0\n",
      "  Downloading cffi-1.15.1-cp39-cp39-macosx_11_0_arm64.whl (174 kB)\n",
      "\u001b[K     |████████████████████████████████| 174 kB 4.1 MB/s eta 0:00:01\n",
      "\u001b[?25hCollecting pycparser\n",
      "  Using cached pycparser-2.21-py2.py3-none-any.whl (118 kB)\n",
      "Installing collected packages: pycparser, cffi, soundfile\n",
      "Successfully installed cffi-1.15.1 pycparser-2.21 soundfile-0.12.1\n",
      "\u001b[33mWARNING: You are using pip version 21.2.4; however, version 23.2.1 is available.\n",
      "You should consider upgrading via the '/Library/Developer/CommandLineTools/usr/bin/python3 -m pip install --upgrade pip' command.\u001b[0m\n",
      "Note: you may need to restart the kernel to use updated packages.\n"
     ]
    }
   ],
   "source": [
    "%pip install soundfile"
   ]
  },
  {
   "cell_type": "code",
   "execution_count": 26,
   "metadata": {},
   "outputs": [],
   "source": [
    "import ray\n",
    "from ray import serve\n",
    "import requests\n",
    "from starlette.requests import Request\n",
    "import soundfile as sf\n",
    "import io\n",
    "\n",
    "@serve.deployment(num_replicas=2, ray_actor_options={\"num_cpus\": 0.2, \"num_gpus\": 0})\n",
    "class SpeechToText:\n",
    "    def __init__(self):\n",
    "        self.model = whisper.load_model('base')\n",
    "    \n",
    "    def transcribe(self, audio_bytes):\n",
    "        # Convert audio bytes to a NumPy array\n",
    "        audio, _ = sf.read(io.BytesIO(audio_bytes))\n",
    "        \n",
    "        # Now transcribe using the whisper model\n",
    "        model_output = self.model.transcribe(audio, verbose=True)  \n",
    "        return model_output['text']\n",
    "    \n",
    "    async def __call__(self, request: Request) -> str:\n",
    "        if request.method == \"POST\":\n",
    "            audio_bytes = await request.body()\n",
    "            transcription = self.transcribe(audio_bytes)\n",
    "            return transcription\n",
    "        else:\n",
    "            return \"Only POST requests are supported.\""
   ]
  },
  {
   "cell_type": "code",
   "execution_count": 10,
   "metadata": {},
   "outputs": [
    {
     "name": "stderr",
     "output_type": "stream",
     "text": [
      "2023-09-14 21:49:14,243\tINFO worker.py:1612 -- Started a local Ray instance. View the dashboard at \u001b[1m\u001b[32m127.0.0.1:8265 \u001b[39m\u001b[22m\n"
     ]
    },
    {
     "data": {
      "text/html": [
       "<div class=\"lm-Widget p-Widget lm-Panel p-Panel jp-Cell-outputWrapper\">\n",
       "    <div style=\"margin-left: 50px;display: flex;flex-direction: row;align-items: center\">\n",
       "        <div class=\"jp-RenderedHTMLCommon\" style=\"display: flex; flex-direction: row;\">\n",
       "  <svg viewBox=\"0 0 567 224\" fill=\"none\" xmlns=\"http://www.w3.org/2000/svg\" style=\"height: 3em;\">\n",
       "    <g clip-path=\"url(#clip0_4338_178347)\">\n",
       "        <path d=\"M341.29 165.561H355.29L330.13 129.051C345.63 123.991 354.21 112.051 354.21 94.2307C354.21 71.3707 338.72 58.1807 311.88 58.1807H271V165.561H283.27V131.661H311.8C314.25 131.661 316.71 131.501 319.01 131.351L341.25 165.561H341.29ZM283.29 119.851V70.0007H311.82C331.3 70.0007 342.34 78.2907 342.34 94.5507C342.34 111.271 331.34 119.861 311.82 119.861L283.29 119.851ZM451.4 138.411L463.4 165.561H476.74L428.74 58.1807H416L367.83 165.561H380.83L392.83 138.411H451.4ZM446.19 126.601H398L422 72.1407L446.24 126.601H446.19ZM526.11 128.741L566.91 58.1807H554.35L519.99 114.181L485.17 58.1807H472.44L514.01 129.181V165.541H526.13V128.741H526.11Z\" fill=\"var(--jp-ui-font-color0)\"/>\n",
       "        <path d=\"M82.35 104.44C84.0187 97.8827 87.8248 92.0678 93.1671 87.9146C98.5094 83.7614 105.083 81.5067 111.85 81.5067C118.617 81.5067 125.191 83.7614 130.533 87.9146C135.875 92.0678 139.681 97.8827 141.35 104.44H163.75C164.476 101.562 165.622 98.8057 167.15 96.2605L127.45 56.5605C121.071 60.3522 113.526 61.6823 106.235 60.3005C98.9443 58.9187 92.4094 54.9203 87.8602 49.0574C83.3109 43.1946 81.0609 35.8714 81.5332 28.4656C82.0056 21.0599 85.1679 14.0819 90.4252 8.8446C95.6824 3.60726 102.672 0.471508 110.08 0.0272655C117.487 -0.416977 124.802 1.86091 130.647 6.4324C136.493 11.0039 140.467 17.5539 141.821 24.8501C143.175 32.1463 141.816 39.6859 138 46.0505L177.69 85.7505C182.31 82.9877 187.58 81.4995 192.962 81.4375C198.345 81.3755 203.648 82.742 208.33 85.3976C213.012 88.0532 216.907 91.9029 219.616 96.5544C222.326 101.206 223.753 106.492 223.753 111.875C223.753 117.258 222.326 122.545 219.616 127.197C216.907 131.848 213.012 135.698 208.33 138.353C203.648 141.009 198.345 142.375 192.962 142.313C187.58 142.251 182.31 140.763 177.69 138L138 177.7C141.808 184.071 143.155 191.614 141.79 198.91C140.424 206.205 136.44 212.75 130.585 217.313C124.731 221.875 117.412 224.141 110.004 223.683C102.596 223.226 95.6103 220.077 90.3621 214.828C85.1139 209.58 81.9647 202.595 81.5072 195.187C81.0497 187.779 83.3154 180.459 87.878 174.605C92.4405 168.751 98.9853 164.766 106.281 163.401C113.576 162.035 121.119 163.383 127.49 167.19L167.19 127.49C165.664 124.941 164.518 122.182 163.79 119.3H141.39C139.721 125.858 135.915 131.673 130.573 135.826C125.231 139.98 118.657 142.234 111.89 142.234C105.123 142.234 98.5494 139.98 93.2071 135.826C87.8648 131.673 84.0587 125.858 82.39 119.3H60C58.1878 126.495 53.8086 132.78 47.6863 136.971C41.5641 141.163 34.1211 142.972 26.7579 142.059C19.3947 141.146 12.6191 137.574 7.70605 132.014C2.79302 126.454 0.0813599 119.29 0.0813599 111.87C0.0813599 104.451 2.79302 97.2871 7.70605 91.7272C12.6191 86.1673 19.3947 82.5947 26.7579 81.6817C34.1211 80.7686 41.5641 82.5781 47.6863 86.7696C53.8086 90.9611 58.1878 97.2456 60 104.44H82.35ZM100.86 204.32C103.407 206.868 106.759 208.453 110.345 208.806C113.93 209.159 117.527 208.258 120.522 206.256C123.517 204.254 125.725 201.276 126.771 197.828C127.816 194.38 127.633 190.677 126.253 187.349C124.874 184.021 122.383 181.274 119.205 179.577C116.027 177.88 112.359 177.337 108.826 178.042C105.293 178.746 102.113 180.654 99.8291 183.44C97.5451 186.226 96.2979 189.718 96.3 193.32C96.2985 195.364 96.7006 197.388 97.4831 199.275C98.2656 201.163 99.4132 202.877 100.86 204.32ZM204.32 122.88C206.868 120.333 208.453 116.981 208.806 113.396C209.159 109.811 208.258 106.214 206.256 103.219C204.254 100.223 201.275 98.0151 197.827 96.97C194.38 95.9249 190.676 96.1077 187.348 97.4873C184.02 98.8669 181.274 101.358 179.577 104.536C177.879 107.714 177.337 111.382 178.041 114.915C178.746 118.448 180.653 121.627 183.439 123.911C186.226 126.195 189.717 127.443 193.32 127.44C195.364 127.443 197.388 127.042 199.275 126.259C201.163 125.476 202.878 124.328 204.32 122.88ZM122.88 19.4205C120.333 16.8729 116.981 15.2876 113.395 14.9347C109.81 14.5817 106.213 15.483 103.218 17.4849C100.223 19.4868 98.0146 22.4654 96.9696 25.9131C95.9245 29.3608 96.1073 33.0642 97.4869 36.3922C98.8665 39.7202 101.358 42.4668 104.535 44.1639C107.713 45.861 111.381 46.4036 114.914 45.6992C118.447 44.9949 121.627 43.0871 123.911 40.301C126.195 37.515 127.442 34.0231 127.44 30.4205C127.44 28.3772 127.038 26.3539 126.255 24.4664C125.473 22.5788 124.326 20.8642 122.88 19.4205ZM19.42 100.86C16.8725 103.408 15.2872 106.76 14.9342 110.345C14.5813 113.93 15.4826 117.527 17.4844 120.522C19.4863 123.518 22.4649 125.726 25.9127 126.771C29.3604 127.816 33.0638 127.633 36.3918 126.254C39.7198 124.874 42.4664 122.383 44.1635 119.205C45.8606 116.027 46.4032 112.359 45.6988 108.826C44.9944 105.293 43.0866 102.114 40.3006 99.8296C37.5145 97.5455 34.0227 96.2983 30.42 96.3005C26.2938 96.3018 22.337 97.9421 19.42 100.86ZM100.86 100.86C98.3125 103.408 96.7272 106.76 96.3742 110.345C96.0213 113.93 96.9226 117.527 98.9244 120.522C100.926 123.518 103.905 125.726 107.353 126.771C110.8 127.816 114.504 127.633 117.832 126.254C121.16 124.874 123.906 122.383 125.604 119.205C127.301 116.027 127.843 112.359 127.139 108.826C126.434 105.293 124.527 102.114 121.741 99.8296C118.955 97.5455 115.463 96.2983 111.86 96.3005C109.817 96.299 107.793 96.701 105.905 97.4835C104.018 98.2661 102.303 99.4136 100.86 100.86Z\" fill=\"#00AEEF\"/>\n",
       "    </g>\n",
       "    <defs>\n",
       "        <clipPath id=\"clip0_4338_178347\">\n",
       "            <rect width=\"566.93\" height=\"223.75\" fill=\"white\"/>\n",
       "        </clipPath>\n",
       "    </defs>\n",
       "  </svg>\n",
       "</div>\n",
       "\n",
       "        <table class=\"jp-RenderedHTMLCommon\" style=\"border-collapse: collapse;color: var(--jp-ui-font-color1);font-size: var(--jp-ui-font-size1);\">\n",
       "    <tr>\n",
       "        <td style=\"text-align: left\"><b>Python version:</b></td>\n",
       "        <td style=\"text-align: left\"><b>3.9.6</b></td>\n",
       "    </tr>\n",
       "    <tr>\n",
       "        <td style=\"text-align: left\"><b>Ray version:</b></td>\n",
       "        <td style=\"text-align: left\"><b>2.6.3</b></td>\n",
       "    </tr>\n",
       "    <tr>\n",
       "    <td style=\"text-align: left\"><b>Dashboard:</b></td>\n",
       "    <td style=\"text-align: left\"><b><a href=\"http://127.0.0.1:8265\" target=\"_blank\">http://127.0.0.1:8265</a></b></td>\n",
       "</tr>\n",
       "\n",
       "</table>\n",
       "\n",
       "    </div>\n",
       "</div>\n"
      ],
      "text/plain": [
       "RayContext(dashboard_url='127.0.0.1:8265', python_version='3.9.6', ray_version='2.6.3', ray_commit='8a434b4ee7cd48e60fa1531315d39901fac5d79e', protocol_version=None)"
      ]
     },
     "execution_count": 10,
     "metadata": {},
     "output_type": "execute_result"
    }
   ],
   "source": [
    "ray.shutdown()\n",
    "ray.init()"
   ]
  },
  {
   "cell_type": "code",
   "execution_count": 11,
   "metadata": {},
   "outputs": [
    {
     "data": {
      "text/plain": [
       "<ray.serve._private.client.ServeControllerClient at 0x111b57f40>"
      ]
     },
     "execution_count": 11,
     "metadata": {},
     "output_type": "execute_result"
    },
    {
     "name": "stderr",
     "output_type": "stream",
     "text": [
      "\u001b[2m\u001b[36m(HTTPProxyActor pid=99982)\u001b[0m INFO:     Started server process [99982]\n"
     ]
    }
   ],
   "source": [
    "serve.start()"
   ]
  },
  {
   "cell_type": "code",
   "execution_count": 27,
   "metadata": {},
   "outputs": [
    {
     "name": "stderr",
     "output_type": "stream",
     "text": [
      "\u001b[2m\u001b[36m(ServeController pid=99979)\u001b[0m INFO 2023-09-14 22:13:29,673 controller 99979 deployment_state.py:1308 - Deploying new version of deployment SpeechToText.\n",
      "\u001b[2m\u001b[36m(ServeController pid=99979)\u001b[0m INFO 2023-09-14 22:13:29,706 controller 99979 deployment_state.py:1459 - Stopping 1 replicas of deployment 'SpeechToText' with outdated versions.\n",
      "\u001b[2m\u001b[36m(ServeController pid=99979)\u001b[0m INFO 2023-09-14 22:13:31,881 controller 99979 deployment_state.py:1571 - Adding 1 replica to deployment SpeechToText.\n",
      "\u001b[2m\u001b[36m(ServeReplica:SpeechToText pid=3563)\u001b[0m /Users/minseokbae/Library/Python/3.9/lib/python/site-packages/whisper/timing.py:58: NumbaDeprecationWarning: \u001b[1mThe 'nopython' keyword argument was not supplied to the 'numba.jit' decorator. The implicit default value for this argument is currently False, but it will be changed to True in Numba 0.59.0. See https://numba.readthedocs.io/en/stable/reference/deprecation.html#deprecation-of-object-mode-fall-back-behaviour-when-using-jit for details.\u001b[0m\n",
      "\u001b[2m\u001b[36m(ServeReplica:SpeechToText pid=3563)\u001b[0m   def backtrace(trace: np.ndarray):\n",
      "\u001b[2m\u001b[36m(ServeController pid=99979)\u001b[0m INFO 2023-09-14 22:13:36,138 controller 99979 deployment_state.py:1459 - Stopping 1 replicas of deployment 'SpeechToText' with outdated versions.\n",
      "\u001b[2m\u001b[36m(ServeController pid=99979)\u001b[0m INFO 2023-09-14 22:13:38,319 controller 99979 deployment_state.py:1571 - Adding 1 replica to deployment SpeechToText.\n",
      "\u001b[2m\u001b[36m(ServeReplica:SpeechToText pid=3583)\u001b[0m /Users/minseokbae/Library/Python/3.9/lib/python/site-packages/whisper/timing.py:58: NumbaDeprecationWarning: \u001b[1mThe 'nopython' keyword argument was not supplied to the 'numba.jit' decorator. The implicit default value for this argument is currently False, but it will be changed to True in Numba 0.59.0. See https://numba.readthedocs.io/en/stable/reference/deprecation.html#deprecation-of-object-mode-fall-back-behaviour-when-using-jit for details.\u001b[0m\n",
      "\u001b[2m\u001b[36m(ServeReplica:SpeechToText pid=3583)\u001b[0m   def backtrace(trace: np.ndarray):\n"
     ]
    }
   ],
   "source": [
    "# Deploy the transcription app\n",
    "SpeechToText.deploy()"
   ]
  },
  {
   "cell_type": "code",
   "execution_count": 28,
   "metadata": {},
   "outputs": [
    {
     "name": "stderr",
     "output_type": "stream",
     "text": [
      "\u001b[2m\u001b[36m(ServeReplica:SpeechToText pid=3563)\u001b[0m /Users/minseokbae/Library/Python/3.9/lib/python/site-packages/whisper/transcribe.py:114: UserWarning: FP16 is not supported on CPU; using FP32 instead\n",
      "\u001b[2m\u001b[36m(ServeReplica:SpeechToText pid=3563)\u001b[0m   warnings.warn(\"FP16 is not supported on CPU; using FP32 instead\")\n",
      "\u001b[2m\u001b[36m(ServeController pid=99979)\u001b[0m WARNING 2023-09-14 22:19:43,559 controller 99979 deployment_state.py:662 - Didn't receive health check response for replica SpeechToText#tudMgI after 30.0s, marking it unhealthy.\n",
      "\u001b[2m\u001b[36m(ServeController pid=99979)\u001b[0m WARNING 2023-09-14 22:20:13,616 controller 99979 deployment_state.py:662 - Didn't receive health check response for replica SpeechToText#tudMgI after 30.0s, marking it unhealthy.\n"
     ]
    },
    {
     "name": "stdout",
     "output_type": "stream",
     "text": [
      "<Response [500]>\n"
     ]
    },
    {
     "name": "stderr",
     "output_type": "stream",
     "text": [
      "\u001b[2m\u001b[36m(ServeController pid=99979)\u001b[0m WARNING 2023-09-14 22:20:43,695 controller 99979 deployment_state.py:662 - Didn't receive health check response for replica SpeechToText#tudMgI after 30.0s, marking it unhealthy.\n",
      "\u001b[2m\u001b[36m(ServeController pid=99979)\u001b[0m WARNING 2023-09-14 22:20:43,696 controller 99979 deployment_state.py:727 - Replica SpeechToText#tudMgI failed the health check 3 times in a row, marking it unhealthy.\n",
      "\u001b[2m\u001b[36m(ServeController pid=99979)\u001b[0m WARNING 2023-09-14 22:20:43,697 controller 99979 deployment_state.py:1812 - Replica SpeechToText#tudMgI of deployment SpeechToText failed health check, stopping it.\n",
      "\u001b[2m\u001b[36m(ServeController pid=99979)\u001b[0m INFO 2023-09-14 22:20:43,716 controller 99979 deployment_state.py:911 - Replica SpeechToText#tudMgI did not shut down after grace period, force-killing it. \n"
     ]
    },
    {
     "name": "stderr",
     "output_type": "stream",
     "text": [
      "\u001b[2m\u001b[36m(HTTPProxyActor pid=99982)\u001b[0m ERROR 2023-09-14 22:20:43,740 http_proxy 127.0.0.1 tdVbmNKNGd /SpeechToText http_proxy.py:819 - The actor died unexpectedly before finishing this task.\n",
      "\u001b[2m\u001b[36m(HTTPProxyActor pid=99982)\u001b[0m \tclass_name: ServeReplica:SpeechToText\n",
      "\u001b[2m\u001b[36m(HTTPProxyActor pid=99982)\u001b[0m \tactor_id: c994c4020bd1a470e3e90e8801000000\n",
      "\u001b[2m\u001b[36m(HTTPProxyActor pid=99982)\u001b[0m \tpid: 3563\n",
      "\u001b[2m\u001b[36m(HTTPProxyActor pid=99982)\u001b[0m \tname: SERVE_REPLICA::SpeechToText#tudMgI\n",
      "\u001b[2m\u001b[36m(HTTPProxyActor pid=99982)\u001b[0m \tnamespace: serve\n",
      "\u001b[2m\u001b[36m(HTTPProxyActor pid=99982)\u001b[0m \tip: 127.0.0.1\n",
      "\u001b[2m\u001b[36m(HTTPProxyActor pid=99982)\u001b[0m The actor is dead because it was killed by `ray.kill`.\n",
      "\u001b[2m\u001b[36m(HTTPProxyActor pid=99982)\u001b[0m Traceback (most recent call last):\n",
      "\u001b[2m\u001b[36m(HTTPProxyActor pid=99982)\u001b[0m   File \"/Users/minseokbae/Library/Python/3.9/lib/python/site-packages/ray/serve/_private/http_proxy.py\", line 802, in send_request_to_replica_streaming\n",
      "\u001b[2m\u001b[36m(HTTPProxyActor pid=99982)\u001b[0m     status_code = await self._consume_and_send_asgi_message_generator(\n",
      "\u001b[2m\u001b[36m(HTTPProxyActor pid=99982)\u001b[0m   File \"/Users/minseokbae/Library/Python/3.9/lib/python/site-packages/ray/serve/_private/http_proxy.py\", line 744, in _consume_and_send_asgi_message_generator\n",
      "\u001b[2m\u001b[36m(HTTPProxyActor pid=99982)\u001b[0m     asgi_messages: List[Message] = pickle.loads(await obj_ref)\n",
      "\u001b[2m\u001b[36m(HTTPProxyActor pid=99982)\u001b[0m ray.exceptions.RayActorError: The actor died unexpectedly before finishing this task.\n",
      "\u001b[2m\u001b[36m(HTTPProxyActor pid=99982)\u001b[0m \tclass_name: ServeReplica:SpeechToText\n",
      "\u001b[2m\u001b[36m(HTTPProxyActor pid=99982)\u001b[0m \tactor_id: c994c4020bd1a470e3e90e8801000000\n",
      "\u001b[2m\u001b[36m(HTTPProxyActor pid=99982)\u001b[0m \tpid: 3563\n",
      "\u001b[2m\u001b[36m(HTTPProxyActor pid=99982)\u001b[0m \tname: SERVE_REPLICA::SpeechToText#tudMgI\n",
      "\u001b[2m\u001b[36m(HTTPProxyActor pid=99982)\u001b[0m \tnamespace: serve\n",
      "\u001b[2m\u001b[36m(HTTPProxyActor pid=99982)\u001b[0m \tip: 127.0.0.1\n",
      "\u001b[2m\u001b[36m(HTTPProxyActor pid=99982)\u001b[0m The actor is dead because it was killed by `ray.kill`.\n",
      "\u001b[2m\u001b[36m(HTTPProxyActor pid=99982)\u001b[0m ERROR:    ASGI callable returned without starting response.\n",
      "\u001b[2m\u001b[36m(ServeController pid=99979)\u001b[0m INFO 2023-09-14 22:20:43,934 controller 99979 deployment_state.py:1571 - Adding 1 replica to deployment SpeechToText.\n",
      "\u001b[2m\u001b[36m(ServeReplica:SpeechToText pid=4785)\u001b[0m /Users/minseokbae/Library/Python/3.9/lib/python/site-packages/whisper/timing.py:58: NumbaDeprecationWarning: \u001b[1mThe 'nopython' keyword argument was not supplied to the 'numba.jit' decorator. The implicit default value for this argument is currently False, but it will be changed to True in Numba 0.59.0. See https://numba.readthedocs.io/en/stable/reference/deprecation.html#deprecation-of-object-mode-fall-back-behaviour-when-using-jit for details.\u001b[0m\n",
      "\u001b[2m\u001b[36m(ServeReplica:SpeechToText pid=4785)\u001b[0m   def backtrace(trace: np.ndarray):\n"
     ]
    }
   ],
   "source": [
    "audio_file = './harvard.wav'\n",
    "\n",
    "response = requests.post(\"http://127.0.0.1:8000/SpeechToText\", data=open(audio_file, 'rb').read())\n",
    "\n",
    "print(response)"
   ]
  }
 ],
 "metadata": {
  "kernelspec": {
   "display_name": "Python 3",
   "language": "python",
   "name": "python3"
  },
  "language_info": {
   "codemirror_mode": {
    "name": "ipython",
    "version": 3
   },
   "file_extension": ".py",
   "mimetype": "text/x-python",
   "name": "python",
   "nbconvert_exporter": "python",
   "pygments_lexer": "ipython3",
   "version": "3.9.6"
  },
  "orig_nbformat": 4
 },
 "nbformat": 4,
 "nbformat_minor": 2
}
